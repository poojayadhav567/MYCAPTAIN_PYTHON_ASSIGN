{
  "nbformat": 4,
  "nbformat_minor": 0,
  "metadata": {
    "colab": {
      "name": "file extension.py",
      "provenance": [],
      "authorship_tag": "ABX9TyO9ar5khU2IsKAMhDG/clu0",
      "include_colab_link": true
    },
    "kernelspec": {
      "name": "python3",
      "display_name": "Python 3"
    },
    "language_info": {
      "name": "python"
    }
  },
  "cells": [
    {
      "cell_type": "markdown",
      "metadata": {
        "id": "view-in-github",
        "colab_type": "text"
      },
      "source": [
        "<a href=\"https://colab.research.google.com/github/poojayadhav567/MYCAPTAIN_PYTHON_ASSIGN/blob/main/file_extension_py.ipynb\" target=\"_parent\"><img src=\"https://colab.research.google.com/assets/colab-badge.svg\" alt=\"Open In Colab\"/></a>"
      ]
    },
    {
      "cell_type": "code",
      "execution_count": 1,
      "metadata": {
        "colab": {
          "base_uri": "https://localhost:8080/"
        },
        "id": "n6qpe4kOPCfq",
        "outputId": "0c2812b5-390f-4340-b88c-7d72dd272926"
      },
      "outputs": [
        {
          "output_type": "stream",
          "name": "stdout",
          "text": [
            "Input the Filename: abc.py\n",
            "The extension of the file is : 'py'\n"
          ]
        }
      ],
      "source": [
        "filename = input(\"Input the Filename: \")\n",
        "f_extns = filename.split(\".\")\n",
        "print (\"The extension of the file is : \" + repr(f_extns[-1]))"
      ]
    }
  ]
}