{
  "nbformat": 4,
  "nbformat_minor": 0,
  "metadata": {
    "colab": {
      "name": "frequency.py",
      "provenance": [],
      "collapsed_sections": [],
      "authorship_tag": "ABX9TyMH5jod4WOGovdWIv58GyRe",
      "include_colab_link": true
    },
    "kernelspec": {
      "name": "python3",
      "display_name": "Python 3"
    },
    "language_info": {
      "name": "python"
    }
  },
  "cells": [
    {
      "cell_type": "markdown",
      "metadata": {
        "id": "view-in-github",
        "colab_type": "text"
      },
      "source": [
        "<a href=\"https://colab.research.google.com/github/poojayadhav567/MYCAPTAIN_PYTHON_ASSIGN/blob/main/frequency_py.ipynb\" target=\"_parent\"><img src=\"https://colab.research.google.com/assets/colab-badge.svg\" alt=\"Open In Colab\"/></a>"
      ]
    },
    {
      "cell_type": "code",
      "execution_count": 16,
      "metadata": {
        "id": "PHrCDB6SETBk",
        "colab": {
          "base_uri": "https://localhost:8080/"
        },
        "outputId": "4d0336f9-4e2a-4f1c-d2a8-93fcbb1e2bfd"
      },
      "outputs": [
        {
          "output_type": "stream",
          "name": "stdout",
          "text": [
            "s - 4\n",
            "i - 4\n",
            "p - 2\n",
            "m - 1\n"
          ]
        }
      ],
      "source": [
        "def printChar(arr, Len):\n",
        " \n",
        "       # To store the\n",
        "    occ = {}\n",
        "    for i in range(Len):\n",
        "         \n",
        "        if(arr[i] in occ):\n",
        "            occ[arr[i]] = occ[arr[i]] + 1\n",
        "         \n",
        "        else:\n",
        "            occ[arr[i]] = 1\n",
        "  \n",
        "       # Map's size\n",
        "    size = len(occ)\n",
        "  \n",
        "      # While there are elements in the map\n",
        "    while (size > 0):\n",
        "  \n",
        "        # Finding the maximum value\n",
        "        # from the map\n",
        "        currentMax = 0\n",
        "        arg_max = 0\n",
        "        for key, value in occ.items():\n",
        " \n",
        "            if (value > currentMax or (value == currentMax and key > arg_max)):\n",
        "                arg_max = key\n",
        "                currentMax = value\n",
        "        print(f\"{arg_max} - {currentMax}\"\n",
        "        occ.pop(arg_max)\n",
        "        size -= 1\n",
        "Str = \"mississippi\"\n",
        "Len = len(Str)\n",
        "printChar(list(Str), Len)"
      ]
    }
  ]
}