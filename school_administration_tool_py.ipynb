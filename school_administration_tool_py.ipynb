{
  "nbformat": 4,
  "nbformat_minor": 0,
  "metadata": {
    "colab": {
      "name": "school_administration_tool.py",
      "provenance": [],
      "authorship_tag": "ABX9TyOVDOMeBGf29xzTyORvJIFo",
      "include_colab_link": true
    },
    "kernelspec": {
      "name": "python3",
      "display_name": "Python 3"
    },
    "language_info": {
      "name": "python"
    }
  },
  "cells": [
    {
      "cell_type": "markdown",
      "metadata": {
        "id": "view-in-github",
        "colab_type": "text"
      },
      "source": [
        "<a href=\"https://colab.research.google.com/github/poojayadhav567/MYCAPTAIN_PYTHON_ASSIGN/blob/main/school_administration_tool_py.ipynb\" target=\"_parent\"><img src=\"https://colab.research.google.com/assets/colab-badge.svg\" alt=\"Open In Colab\"/></a>"
      ]
    },
    {
      "cell_type": "markdown",
      "source": [],
      "metadata": {
        "id": "_LuxF9YrhbvR"
      }
    },
    {
      "cell_type": "code",
      "execution_count": 3,
      "metadata": {
        "colab": {
          "base_uri": "https://localhost:8080/"
        },
        "id": "WStnuaLyTMxh",
        "outputId": "843f06a5-0496-468b-bcd5-5283b5105990"
      },
      "outputs": [
        {
          "name": "stdout",
          "output_type": "stream",
          "text": [
            "Enter student information for student #1 the following format(Name Age Contact_Number E-Mail_ID):mahi 20 1233455567  ester@gamil.com\n",
            "\n",
            " The entered information is -\n",
            "Name:mahi\n",
            "Age:20\n",
            "Contact_Number:1233455567\n",
            "E-Mail ID:\n",
            "Is the entered information correct?(yes/no):yes\n",
            "enter (yes/no)if you want to enter information for another student:yes\n",
            "Enter student information for student #2 the following format(Name Age Contact_Number E-Mail_ID):mohan 34 35667790787  g@123\n",
            "\n",
            " The entered information is -\n",
            "Name:mohan\n",
            "Age:34\n",
            "Contact_Number:35667790787\n",
            "E-Mail ID:\n",
            "Is the entered information correct?(yes/no):yes\n",
            "enter (yes/no)if you want to enter information for another student:no\n"
          ]
        }
      ],
      "source": [
        "import csv\n",
        "def write_into_csv(info_list):\n",
        "  with open('student_info.csv','a',newline='') as csv_file:\n",
        "     writer=csv.writer(csv_file)\n",
        "\n",
        "     if csv_file.tell()==0:\n",
        "        writer.writerow([\"Name\",\"Age\",\"contact Number\",\"E-Mail ID\"])\n",
        "\n",
        "     writer.writerow(info_list)\n",
        "if __name__== '__main__':\n",
        "  condition=True\n",
        "  student_num=1\n",
        "\n",
        "  while(condition):\n",
        "      student_info=input(\"Enter student information for student #{} the following format(Name Age Contact_Number E-Mail_ID):\".format(student_num))\n",
        "   \n",
        "      student_info_list=student_info.split(' ')\n",
        "      print(\"\\n The entered information is -\\nName:{}\\nAge:{}\\nContact_Number:{}\\nE-Mail ID:{}\".format(student_info_list[0],student_info_list[1],student_info_list[2],student_info_list[3]))\n",
        "      choice_check=input(\"Is the entered information correct?(yes/no):\")\n",
        "      if choice_check==\"yes\":\n",
        "         write_into_csv(student_info_list)\n",
        "\n",
        "         condition_check=input(\"enter (yes/no)if you want to enter information for another student:\")\n",
        "         if condition_check==\"yes\":\n",
        "            condition=True\n",
        "            student_num=student_num+1\n",
        "         elif condition_check==\"no\":\n",
        "            condition=False\n",
        "         elif choice_check==\"no\":\n",
        "           print(\"\\n Please re-enter the values!\")\n"
      ]
    }
  ]
}